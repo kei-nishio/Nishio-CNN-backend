{
  "cells": [
    {
      "cell_type": "markdown",
      "id": "a0139e93",
      "metadata": {},
      "source": [
        "# 100 Sports Image Classification"
      ]
    },
    {
      "cell_type": "markdown",
      "id": "fec69d0c",
      "metadata": {},
      "source": [
        "## データのインポート"
      ]
    },
    {
      "cell_type": "code",
      "execution_count": null,
      "id": "1f18044e",
      "metadata": {},
      "outputs": [],
      "source": [
        "# 初回のみ実行\n",
        "\n",
        "# import kagglehub\n",
        "\n",
        "# # Download latest version\n",
        "# path = kagglehub.dataset_download(\"gpiosenka/sports-classification\")\n",
        "\n",
        "# print(\"Path to dataset files:\", path)"
      ]
    },
    {
      "cell_type": "markdown",
      "id": "57a73fe2",
      "metadata": {},
      "source": [
        "## 設定値"
      ]
    },
    {
      "cell_type": "code",
      "execution_count": null,
      "id": "cb079e11",
      "metadata": {},
      "outputs": [],
      "source": [
        "EPOCHS = 50 # エポック数\n",
        "IMG_SIZE = 64 # 画像のサイズ\n",
        "BATCH_SIZE = 32 # バッチサイズ\n",
        "FILTERS_SIZE = 32 # フィルタサイズ"
      ]
    },
    {
      "cell_type": "markdown",
      "id": "1a9b5278",
      "metadata": {},
      "source": [
        "## データの表示"
      ]
    },
    {
      "cell_type": "code",
      "execution_count": null,
      "id": "bd812233",
      "metadata": {},
      "outputs": [],
      "source": [
        "import pandas as pd\n",
        "\n",
        "data_path = './kagglehub_cache/datasets/gpiosenka/sports-classification/versions/9/'\n",
        "csv_path = data_path + 'sports.csv'\n",
        "df = pd.read_csv(csv_path)\n",
        "df.head()"
      ]
    },
    {
      "cell_type": "markdown",
      "id": "881ccc71",
      "metadata": {},
      "source": [
        "### カテゴリ列のユニーク値チェック"
      ]
    },
    {
      "cell_type": "code",
      "execution_count": null,
      "id": "0ac917b5",
      "metadata": {},
      "outputs": [],
      "source": [
        "# categorical_columns = [\"labels\",'data set']\n",
        "categorical_columns = ['data set']\n",
        "for col in categorical_columns:\n",
        "    if col in df.columns:\n",
        "        unique_values = df[col].value_counts()\n",
        "        print(f\"{col} 列のユニーク値 ({len(unique_values)} 個):\")\n",
        "        for value, count in unique_values.items():\n",
        "            print(f\"  {value}: {count} 件\")"
      ]
    },
    {
      "cell_type": "markdown",
      "id": "e8a00fa6",
      "metadata": {},
      "source": [
        "## データの分離"
      ]
    },
    {
      "cell_type": "code",
      "execution_count": null,
      "id": "79bc47f0",
      "metadata": {},
      "outputs": [],
      "source": [
        "df_train = df[df['data set'] == 'train']\n",
        "df_test = df[df['data set'] == 'test']\n",
        "df_valid = df[df['data set'] == 'valid']\n",
        "\n",
        "display(df_train.head())\n",
        "# display(df_test.head())\n",
        "# display(df_valid.head())"
      ]
    },
    {
      "cell_type": "markdown",
      "id": "9e210fe4",
      "metadata": {},
      "source": [
        "## CNN"
      ]
    },
    {
      "cell_type": "code",
      "execution_count": null,
      "id": "4b90f06b",
      "metadata": {},
      "outputs": [],
      "source": [
        "import tensorflow as tf\n",
        "from tensorflow.keras.preprocessing.image import ImageDataGenerator"
      ]
    },
    {
      "cell_type": "markdown",
      "id": "52e5350b",
      "metadata": {},
      "source": [
        "### データの前処理"
      ]
    },
    {
      "cell_type": "markdown",
      "id": "2f2d0734",
      "metadata": {},
      "source": [
        "#### 訓練用データセットの前処理"
      ]
    },
    {
      "cell_type": "code",
      "execution_count": null,
      "id": "3ed51942",
      "metadata": {},
      "outputs": [],
      "source": [
        "train_datagen = ImageDataGenerator(rescale = 1./255,\n",
        "                                   shear_range = 0.2,\n",
        "                                   zoom_range = 0.2,\n",
        "                                   horizontal_flip = True)\n",
        "train_set = train_datagen.flow_from_directory(data_path + 'train',\n",
        "                                                 target_size = (IMG_SIZE, IMG_SIZE),\n",
        "                                                 batch_size = BATCH_SIZE,\n",
        "                                                 class_mode = 'categorical')\n",
        "# 2分類の場合は class_mode = 'binary' を指定\n",
        "# 多分類の場合は class_mode = 'categorical' を指定"
      ]
    },
    {
      "cell_type": "markdown",
      "id": "05694ef3",
      "metadata": {},
      "source": [
        "#### 検証用データセットの前処理"
      ]
    },
    {
      "cell_type": "code",
      "execution_count": null,
      "id": "f7c9901a",
      "metadata": {},
      "outputs": [],
      "source": [
        "valid_datagen = ImageDataGenerator(rescale = 1./255,\n",
        "                                   shear_range = 0.2,\n",
        "                                   zoom_range = 0.2,\n",
        "                                   horizontal_flip = True)\n",
        "valid_set = valid_datagen.flow_from_directory(data_path + 'valid',\n",
        "                                                 target_size = (IMG_SIZE, IMG_SIZE),\n",
        "                                                 batch_size = BATCH_SIZE,\n",
        "                                                 class_mode = 'categorical')"
      ]
    },
    {
      "cell_type": "markdown",
      "id": "9f9c9cde",
      "metadata": {},
      "source": [
        "#### テストデータセットの前処理"
      ]
    },
    {
      "cell_type": "code",
      "execution_count": null,
      "id": "5e2ff1de",
      "metadata": {},
      "outputs": [],
      "source": [
        "test_datagen = ImageDataGenerator(rescale = 1./255,\n",
        "                                   shear_range = 0.2,\n",
        "                                   zoom_range = 0.2,\n",
        "                                   horizontal_flip = True)\n",
        "test_set = test_datagen.flow_from_directory(data_path + 'test',\n",
        "                                                 target_size = (IMG_SIZE, IMG_SIZE),\n",
        "                                                 batch_size = BATCH_SIZE,\n",
        "                                                 class_mode = 'categorical')"
      ]
    },
    {
      "cell_type": "markdown",
      "id": "9734aaff",
      "metadata": {},
      "source": [
        "### CNNの構築"
      ]
    },
    {
      "cell_type": "markdown",
      "id": "da9f9298",
      "metadata": {},
      "source": [
        "#### イニシャライズ"
      ]
    },
    {
      "cell_type": "code",
      "execution_count": null,
      "id": "10c4731c",
      "metadata": {},
      "outputs": [],
      "source": [
        "cnn = tf.keras.models.Sequential()"
      ]
    },
    {
      "cell_type": "markdown",
      "id": "5dbd8dda",
      "metadata": {},
      "source": [
        "#### 畳み込みandプーリング"
      ]
    },
    {
      "cell_type": "code",
      "execution_count": null,
      "id": "0c76a065",
      "metadata": {},
      "outputs": [],
      "source": [
        "# 一層目\n",
        "cnn.add(tf.keras.layers.Conv2D(filters=FILTERS_SIZE, kernel_size=3, activation='relu', input_shape=[IMG_SIZE, IMG_SIZE, 3]))\n",
        "cnn.add(tf.keras.layers.MaxPooling2D(pool_size=2, strides=2))\n",
        "\n",
        "# 二層目\n",
        "cnn.add(tf.keras.layers.Conv2D(filters=FILTERS_SIZE, kernel_size=3, activation='relu'))\n",
        "cnn.add(tf.keras.layers.MaxPooling2D(pool_size=2, strides=2))"
      ]
    },
    {
      "cell_type": "markdown",
      "id": "84fd9705",
      "metadata": {},
      "source": [
        "#### Flattening"
      ]
    },
    {
      "cell_type": "code",
      "execution_count": null,
      "id": "b16fa657",
      "metadata": {},
      "outputs": [],
      "source": [
        "cnn.add(tf.keras.layers.Flatten())\n",
        "cnn.add(tf.keras.layers.Dense(units=128, activation='relu'))"
      ]
    },
    {
      "cell_type": "markdown",
      "id": "a4489176",
      "metadata": {},
      "source": [
        "#### 出力層の追加"
      ]
    },
    {
      "cell_type": "code",
      "execution_count": null,
      "id": "f9eb5d65",
      "metadata": {},
      "outputs": [],
      "source": [
        "cnn.add(tf.keras.layers.Dense(units=100, activation='softmax'))\n",
        "# 2分類の場合は units=1, activation='sigmoid' を指定\n",
        "# 多分類の場合は units=[number], activation='softmax' を指定"
      ]
    },
    {
      "cell_type": "markdown",
      "id": "30987574",
      "metadata": {},
      "source": [
        "### モデル学習"
      ]
    },
    {
      "cell_type": "markdown",
      "id": "392e8ce8",
      "metadata": {},
      "source": [
        "#### モデルのコンパイルと訓練"
      ]
    },
    {
      "cell_type": "code",
      "execution_count": null,
      "id": "e5f801ba",
      "metadata": {},
      "outputs": [],
      "source": [
        "cnn.compile(optimizer = 'adam', loss = 'categorical_crossentropy', metrics = ['accuracy'])\n",
        "# 2分類の場合は loss = 'binary_crossentropy' を指定\n",
        "# 多分類の場合は loss = 'categorical_crossentropy' を指定"
      ]
    },
    {
      "cell_type": "markdown",
      "id": "a663a184",
      "metadata": {},
      "source": [
        "#### モデルの訓練"
      ]
    },
    {
      "cell_type": "code",
      "execution_count": null,
      "id": "db6d691c",
      "metadata": {},
      "outputs": [],
      "source": [
        "cnn.fit(x = train_set, validation_data = valid_set, epochs = EPOCHS)"
      ]
    },
    {
      "cell_type": "markdown",
      "id": "1ada2762",
      "metadata": {},
      "source": [
        "## 結果の出力"
      ]
    },
    {
      "cell_type": "code",
      "execution_count": null,
      "id": "e5e4bee8",
      "metadata": {},
      "outputs": [],
      "source": [
        "import os\n",
        "import json\n",
        "\n",
        "# クラス名のマッピング（index → label）\n",
        "class_indices = train_set.class_indices\n",
        "\n",
        "# 保存用ディレクトリ\n",
        "model_path = './ml'\n",
        "os.makedirs(model_path, exist_ok=True)\n",
        "\n",
        "# class_indices を JSON に保存（例: { 'air hockey': 0, 'archery': 1, ... }）\n",
        "with open(os.path.join(model_path, \"class_indices.json\"), \"w\") as f:\n",
        "    json.dump(class_indices, f, indent=2, ensure_ascii=False)\n",
        "print(\"クラスインデックス（class_indices）を JSON 出力しました。\")\n",
        "\n",
        "# モデル保存\n",
        "model_filename = f'model_{EPOCHS}epochs.h5'\n",
        "cnn.save(os.path.join(model_path, model_filename))\n",
        "print(f\"モデルを保存しました: {model_filename}\")"
      ]
    }
  ],
  "metadata": {
    "kernelspec": {
      "display_name": "Python 3",
      "language": "python",
      "name": "python3"
    },
    "language_info": {
      "codemirror_mode": {
        "name": "ipython",
        "version": 3
      },
      "file_extension": ".py",
      "mimetype": "text/x-python",
      "name": "python",
      "nbconvert_exporter": "python",
      "pygments_lexer": "ipython3",
      "version": "3.12.11"
    }
  },
  "nbformat": 4,
  "nbformat_minor": 5
}
