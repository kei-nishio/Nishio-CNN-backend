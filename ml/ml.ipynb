{
  "cells": [
    {
      "cell_type": "markdown",
      "id": "a0139e93",
      "metadata": {},
      "source": [
        "# 100 Sports Image Classification"
      ]
    },
    {
      "cell_type": "markdown",
      "id": "fec69d0c",
      "metadata": {},
      "source": [
        "## データのインポート"
      ]
    },
    {
      "cell_type": "code",
      "execution_count": 1,
      "id": "1f18044e",
      "metadata": {},
      "outputs": [],
      "source": [
        "# 初回のみ実行\n",
        "\n",
        "# import kagglehub\n",
        "\n",
        "# # Download latest version\n",
        "# path = kagglehub.dataset_download(\"gpiosenka/sports-classification\")\n",
        "\n",
        "# print(\"Path to dataset files:\", path)"
      ]
    },
    {
      "cell_type": "markdown",
      "id": "1a9b5278",
      "metadata": {},
      "source": [
        "## データの表示"
      ]
    },
    {
      "cell_type": "code",
      "execution_count": 2,
      "id": "bd812233",
      "metadata": {},
      "outputs": [
        {
          "data": {
            "text/html": [
              "<div>\n",
              "<style scoped>\n",
              "    .dataframe tbody tr th:only-of-type {\n",
              "        vertical-align: middle;\n",
              "    }\n",
              "\n",
              "    .dataframe tbody tr th {\n",
              "        vertical-align: top;\n",
              "    }\n",
              "\n",
              "    .dataframe thead th {\n",
              "        text-align: right;\n",
              "    }\n",
              "</style>\n",
              "<table border=\"1\" class=\"dataframe\">\n",
              "  <thead>\n",
              "    <tr style=\"text-align: right;\">\n",
              "      <th></th>\n",
              "      <th>class id</th>\n",
              "      <th>filepaths</th>\n",
              "      <th>labels</th>\n",
              "      <th>data set</th>\n",
              "    </tr>\n",
              "  </thead>\n",
              "  <tbody>\n",
              "    <tr>\n",
              "      <th>0</th>\n",
              "      <td>0</td>\n",
              "      <td>train/air hockey/001.jpg</td>\n",
              "      <td>air hockey</td>\n",
              "      <td>train</td>\n",
              "    </tr>\n",
              "    <tr>\n",
              "      <th>1</th>\n",
              "      <td>0</td>\n",
              "      <td>train/air hockey/002.jpg</td>\n",
              "      <td>air hockey</td>\n",
              "      <td>train</td>\n",
              "    </tr>\n",
              "    <tr>\n",
              "      <th>2</th>\n",
              "      <td>0</td>\n",
              "      <td>train/air hockey/003.jpg</td>\n",
              "      <td>air hockey</td>\n",
              "      <td>train</td>\n",
              "    </tr>\n",
              "    <tr>\n",
              "      <th>3</th>\n",
              "      <td>0</td>\n",
              "      <td>train/air hockey/004.jpg</td>\n",
              "      <td>air hockey</td>\n",
              "      <td>train</td>\n",
              "    </tr>\n",
              "    <tr>\n",
              "      <th>4</th>\n",
              "      <td>0</td>\n",
              "      <td>train/air hockey/005.jpg</td>\n",
              "      <td>air hockey</td>\n",
              "      <td>train</td>\n",
              "    </tr>\n",
              "  </tbody>\n",
              "</table>\n",
              "</div>"
            ],
            "text/plain": [
              "   class id                 filepaths      labels data set\n",
              "0         0  train/air hockey/001.jpg  air hockey    train\n",
              "1         0  train/air hockey/002.jpg  air hockey    train\n",
              "2         0  train/air hockey/003.jpg  air hockey    train\n",
              "3         0  train/air hockey/004.jpg  air hockey    train\n",
              "4         0  train/air hockey/005.jpg  air hockey    train"
            ]
          },
          "execution_count": 2,
          "metadata": {},
          "output_type": "execute_result"
        }
      ],
      "source": [
        "import pandas as pd\n",
        "\n",
        "data_path = './kagglehub_cache/datasets/gpiosenka/sports-classification/versions/9/'\n",
        "csv_path = data_path + 'sports.csv'\n",
        "df = pd.read_csv(csv_path)\n",
        "df.head()"
      ]
    },
    {
      "cell_type": "markdown",
      "id": "881ccc71",
      "metadata": {},
      "source": [
        "### カテゴリ列のユニーク値チェック"
      ]
    },
    {
      "cell_type": "code",
      "execution_count": 3,
      "id": "0ac917b5",
      "metadata": {},
      "outputs": [
        {
          "name": "stdout",
          "output_type": "stream",
          "text": [
            "data set 列のユニーク値 (3 個):\n",
            "  train: 13493 件\n",
            "  test: 500 件\n",
            "  valid: 500 件\n"
          ]
        }
      ],
      "source": [
        "# categorical_columns = [\"labels\",'data set']\n",
        "categorical_columns = ['data set']\n",
        "for col in categorical_columns:\n",
        "    if col in df.columns:\n",
        "        unique_values = df[col].value_counts()\n",
        "        print(f\"{col} 列のユニーク値 ({len(unique_values)} 個):\")\n",
        "        for value, count in unique_values.items():\n",
        "            print(f\"  {value}: {count} 件\")"
      ]
    },
    {
      "cell_type": "markdown",
      "id": "e8a00fa6",
      "metadata": {},
      "source": [
        "## データの分離"
      ]
    },
    {
      "cell_type": "code",
      "execution_count": 4,
      "id": "79bc47f0",
      "metadata": {},
      "outputs": [
        {
          "data": {
            "text/html": [
              "<div>\n",
              "<style scoped>\n",
              "    .dataframe tbody tr th:only-of-type {\n",
              "        vertical-align: middle;\n",
              "    }\n",
              "\n",
              "    .dataframe tbody tr th {\n",
              "        vertical-align: top;\n",
              "    }\n",
              "\n",
              "    .dataframe thead th {\n",
              "        text-align: right;\n",
              "    }\n",
              "</style>\n",
              "<table border=\"1\" class=\"dataframe\">\n",
              "  <thead>\n",
              "    <tr style=\"text-align: right;\">\n",
              "      <th></th>\n",
              "      <th>class id</th>\n",
              "      <th>filepaths</th>\n",
              "      <th>labels</th>\n",
              "      <th>data set</th>\n",
              "    </tr>\n",
              "  </thead>\n",
              "  <tbody>\n",
              "    <tr>\n",
              "      <th>0</th>\n",
              "      <td>0</td>\n",
              "      <td>train/air hockey/001.jpg</td>\n",
              "      <td>air hockey</td>\n",
              "      <td>train</td>\n",
              "    </tr>\n",
              "    <tr>\n",
              "      <th>1</th>\n",
              "      <td>0</td>\n",
              "      <td>train/air hockey/002.jpg</td>\n",
              "      <td>air hockey</td>\n",
              "      <td>train</td>\n",
              "    </tr>\n",
              "    <tr>\n",
              "      <th>2</th>\n",
              "      <td>0</td>\n",
              "      <td>train/air hockey/003.jpg</td>\n",
              "      <td>air hockey</td>\n",
              "      <td>train</td>\n",
              "    </tr>\n",
              "    <tr>\n",
              "      <th>3</th>\n",
              "      <td>0</td>\n",
              "      <td>train/air hockey/004.jpg</td>\n",
              "      <td>air hockey</td>\n",
              "      <td>train</td>\n",
              "    </tr>\n",
              "    <tr>\n",
              "      <th>4</th>\n",
              "      <td>0</td>\n",
              "      <td>train/air hockey/005.jpg</td>\n",
              "      <td>air hockey</td>\n",
              "      <td>train</td>\n",
              "    </tr>\n",
              "  </tbody>\n",
              "</table>\n",
              "</div>"
            ],
            "text/plain": [
              "   class id                 filepaths      labels data set\n",
              "0         0  train/air hockey/001.jpg  air hockey    train\n",
              "1         0  train/air hockey/002.jpg  air hockey    train\n",
              "2         0  train/air hockey/003.jpg  air hockey    train\n",
              "3         0  train/air hockey/004.jpg  air hockey    train\n",
              "4         0  train/air hockey/005.jpg  air hockey    train"
            ]
          },
          "metadata": {},
          "output_type": "display_data"
        }
      ],
      "source": [
        "df_train = df[df['data set'] == 'train']\n",
        "df_test = df[df['data set'] == 'test']\n",
        "df_valid = df[df['data set'] == 'valid']\n",
        "\n",
        "display(df_train.head())\n",
        "# display(df_test.head())\n",
        "# display(df_valid.head())"
      ]
    },
    {
      "cell_type": "markdown",
      "id": "9e210fe4",
      "metadata": {},
      "source": [
        "## CNN"
      ]
    },
    {
      "cell_type": "code",
      "execution_count": 5,
      "id": "4b90f06b",
      "metadata": {},
      "outputs": [
        {
          "name": "stderr",
          "output_type": "stream",
          "text": [
            "2025-07-25 09:02:48.593384: I tensorflow/core/util/port.cc:153] oneDNN custom operations are on. You may see slightly different numerical results due to floating-point round-off errors from different computation orders. To turn them off, set the environment variable `TF_ENABLE_ONEDNN_OPTS=0`.\n",
            "2025-07-25 09:02:48.629355: I external/local_xla/xla/tsl/cuda/cudart_stub.cc:32] Could not find cuda drivers on your machine, GPU will not be used.\n",
            "2025-07-25 09:02:49.128261: I external/local_xla/xla/tsl/cuda/cudart_stub.cc:32] Could not find cuda drivers on your machine, GPU will not be used.\n",
            "2025-07-25 09:02:49.912151: E external/local_xla/xla/stream_executor/cuda/cuda_fft.cc:467] Unable to register cuFFT factory: Attempting to register factory for plugin cuFFT when one has already been registered\n",
            "WARNING: All log messages before absl::InitializeLog() is called are written to STDERR\n",
            "E0000 00:00:1753434170.320448    1515 cuda_dnn.cc:8579] Unable to register cuDNN factory: Attempting to register factory for plugin cuDNN when one has already been registered\n",
            "E0000 00:00:1753434170.415076    1515 cuda_blas.cc:1407] Unable to register cuBLAS factory: Attempting to register factory for plugin cuBLAS when one has already been registered\n",
            "W0000 00:00:1753434171.066030    1515 computation_placer.cc:177] computation placer already registered. Please check linkage and avoid linking the same target more than once.\n",
            "W0000 00:00:1753434171.066150    1515 computation_placer.cc:177] computation placer already registered. Please check linkage and avoid linking the same target more than once.\n",
            "W0000 00:00:1753434171.066155    1515 computation_placer.cc:177] computation placer already registered. Please check linkage and avoid linking the same target more than once.\n",
            "W0000 00:00:1753434171.066157    1515 computation_placer.cc:177] computation placer already registered. Please check linkage and avoid linking the same target more than once.\n",
            "2025-07-25 09:02:51.167905: I tensorflow/core/platform/cpu_feature_guard.cc:210] This TensorFlow binary is optimized to use available CPU instructions in performance-critical operations.\n",
            "To enable the following instructions: AVX2 AVX512F AVX512_VNNI FMA, in other operations, rebuild TensorFlow with the appropriate compiler flags.\n"
          ]
        }
      ],
      "source": [
        "import tensorflow as tf\n",
        "from tensorflow.keras.preprocessing.image import ImageDataGenerator"
      ]
    },
    {
      "cell_type": "markdown",
      "id": "52e5350b",
      "metadata": {},
      "source": [
        "### データの前処理"
      ]
    },
    {
      "cell_type": "markdown",
      "id": "2f2d0734",
      "metadata": {},
      "source": [
        "#### 訓練用データセットの前処理"
      ]
    },
    {
      "cell_type": "code",
      "execution_count": 6,
      "id": "3ed51942",
      "metadata": {},
      "outputs": [
        {
          "name": "stdout",
          "output_type": "stream",
          "text": [
            "Found 13492 images belonging to 100 classes.\n"
          ]
        }
      ],
      "source": [
        "train_datagen = ImageDataGenerator(rescale = 1./255,\n",
        "                                   shear_range = 0.2,\n",
        "                                   zoom_range = 0.2,\n",
        "                                   horizontal_flip = True)\n",
        "train_set = train_datagen.flow_from_directory(data_path + 'train',\n",
        "                                                 target_size = (64, 64),\n",
        "                                                 batch_size = 32,\n",
        "                                                 class_mode = 'categorical')\n",
        "# 2分類の場合は class_mode = 'binary' を指定\n",
        "# 多分類の場合は class_mode = 'categorical' を指定"
      ]
    },
    {
      "cell_type": "markdown",
      "id": "05694ef3",
      "metadata": {},
      "source": [
        "#### 検証用データセットの前処理"
      ]
    },
    {
      "cell_type": "code",
      "execution_count": 7,
      "id": "f7c9901a",
      "metadata": {},
      "outputs": [
        {
          "name": "stdout",
          "output_type": "stream",
          "text": [
            "Found 500 images belonging to 100 classes.\n"
          ]
        }
      ],
      "source": [
        "valid_datagen = ImageDataGenerator(rescale = 1./255,\n",
        "                                   shear_range = 0.2,\n",
        "                                   zoom_range = 0.2,\n",
        "                                   horizontal_flip = True)\n",
        "valid_set = valid_datagen.flow_from_directory(data_path + 'valid',\n",
        "                                                 target_size = (64, 64),\n",
        "                                                 batch_size = 32,\n",
        "                                                 class_mode = 'categorical')"
      ]
    },
    {
      "cell_type": "markdown",
      "id": "9f9c9cde",
      "metadata": {},
      "source": [
        "#### テストデータセットの前処理"
      ]
    },
    {
      "cell_type": "code",
      "execution_count": 8,
      "id": "5e2ff1de",
      "metadata": {},
      "outputs": [
        {
          "name": "stdout",
          "output_type": "stream",
          "text": [
            "Found 500 images belonging to 100 classes.\n"
          ]
        }
      ],
      "source": [
        "test_datagen = ImageDataGenerator(rescale = 1./255,\n",
        "                                   shear_range = 0.2,\n",
        "                                   zoom_range = 0.2,\n",
        "                                   horizontal_flip = True)\n",
        "test_set = test_datagen.flow_from_directory(data_path + 'test',\n",
        "                                                 target_size = (64, 64),\n",
        "                                                 batch_size = 32,\n",
        "                                                 class_mode = 'categorical')"
      ]
    },
    {
      "cell_type": "markdown",
      "id": "9734aaff",
      "metadata": {},
      "source": [
        "### CNNの構築"
      ]
    },
    {
      "cell_type": "markdown",
      "id": "da9f9298",
      "metadata": {},
      "source": [
        "#### イニシャライズ"
      ]
    },
    {
      "cell_type": "code",
      "execution_count": 9,
      "id": "10c4731c",
      "metadata": {},
      "outputs": [],
      "source": [
        "cnn = tf.keras.models.Sequential()"
      ]
    },
    {
      "cell_type": "markdown",
      "id": "5dbd8dda",
      "metadata": {},
      "source": [
        "#### 畳み込みandプーリング"
      ]
    },
    {
      "cell_type": "code",
      "execution_count": 10,
      "id": "0c76a065",
      "metadata": {},
      "outputs": [
        {
          "name": "stderr",
          "output_type": "stream",
          "text": [
            "/usr/local/lib/python3.12/site-packages/keras/src/layers/convolutional/base_conv.py:113: UserWarning: Do not pass an `input_shape`/`input_dim` argument to a layer. When using Sequential models, prefer using an `Input(shape)` object as the first layer in the model instead.\n",
            "  super().__init__(activity_regularizer=activity_regularizer, **kwargs)\n",
            "2025-07-25 09:03:07.518790: E external/local_xla/xla/stream_executor/cuda/cuda_platform.cc:51] failed call to cuInit: INTERNAL: CUDA error: Failed call to cuInit: UNKNOWN ERROR (303)\n"
          ]
        }
      ],
      "source": [
        "# 一層目\n",
        "cnn.add(tf.keras.layers.Conv2D(filters=32, kernel_size=3, activation='relu', input_shape=[64, 64, 3]))\n",
        "cnn.add(tf.keras.layers.MaxPooling2D(pool_size=2, strides=2))\n",
        "\n",
        "# 二層目\n",
        "cnn.add(tf.keras.layers.Conv2D(filters=32, kernel_size=3, activation='relu'))\n",
        "cnn.add(tf.keras.layers.MaxPooling2D(pool_size=2, strides=2))"
      ]
    },
    {
      "cell_type": "markdown",
      "id": "84fd9705",
      "metadata": {},
      "source": [
        "#### Flattening"
      ]
    },
    {
      "cell_type": "code",
      "execution_count": 11,
      "id": "b16fa657",
      "metadata": {},
      "outputs": [],
      "source": [
        "cnn.add(tf.keras.layers.Flatten())\n",
        "cnn.add(tf.keras.layers.Dense(units=128, activation='relu'))"
      ]
    },
    {
      "cell_type": "markdown",
      "id": "a4489176",
      "metadata": {},
      "source": [
        "#### 出力層の追加"
      ]
    },
    {
      "cell_type": "code",
      "execution_count": 12,
      "id": "f9eb5d65",
      "metadata": {},
      "outputs": [],
      "source": [
        "cnn.add(tf.keras.layers.Dense(units=100, activation='softmax'))\n",
        "# 2分類の場合は units=1, activation='sigmoid' を指定\n",
        "# 多分類の場合は units=[number], activation='softmax' を指定"
      ]
    },
    {
      "cell_type": "markdown",
      "id": "30987574",
      "metadata": {},
      "source": [
        "### モデル学習"
      ]
    },
    {
      "cell_type": "markdown",
      "id": "392e8ce8",
      "metadata": {},
      "source": [
        "#### モデルのコンパイルと訓練"
      ]
    },
    {
      "cell_type": "code",
      "execution_count": 13,
      "id": "e5f801ba",
      "metadata": {},
      "outputs": [],
      "source": [
        "cnn.compile(optimizer = 'adam', loss = 'categorical_crossentropy', metrics = ['accuracy'])\n",
        "# 2分類の場合は loss = 'binary_crossentropy' を指定\n",
        "# 多分類の場合は loss = 'categorical_crossentropy' を指定"
      ]
    },
    {
      "cell_type": "markdown",
      "id": "a663a184",
      "metadata": {},
      "source": [
        "#### モデルの訓練"
      ]
    },
    {
      "cell_type": "code",
      "execution_count": 14,
      "id": "db6d691c",
      "metadata": {},
      "outputs": [
        {
          "name": "stderr",
          "output_type": "stream",
          "text": [
            "/usr/local/lib/python3.12/site-packages/keras/src/trainers/data_adapters/py_dataset_adapter.py:121: UserWarning: Your `PyDataset` class should call `super().__init__(**kwargs)` in its constructor. `**kwargs` can include `workers`, `use_multiprocessing`, `max_queue_size`. Do not pass these arguments to `fit()`, as they will be ignored.\n",
            "  self._warn_if_super_not_called()\n"
          ]
        },
        {
          "name": "stdout",
          "output_type": "stream",
          "text": [
            "Epoch 1/25\n",
            "\u001b[1m422/422\u001b[0m \u001b[32m━━━━━━━━━━━━━━━━━━━━\u001b[0m\u001b[37m\u001b[0m \u001b[1m0s\u001b[0m 534ms/step - accuracy: 0.0373 - loss: 4.4352"
          ]
        },
        {
          "name": "stderr",
          "output_type": "stream",
          "text": [
            "/usr/local/lib/python3.12/site-packages/keras/src/trainers/data_adapters/py_dataset_adapter.py:121: UserWarning: Your `PyDataset` class should call `super().__init__(**kwargs)` in its constructor. `**kwargs` can include `workers`, `use_multiprocessing`, `max_queue_size`. Do not pass these arguments to `fit()`, as they will be ignored.\n",
            "  self._warn_if_super_not_called()\n"
          ]
        },
        {
          "name": "stdout",
          "output_type": "stream",
          "text": [
            "\u001b[1m422/422\u001b[0m \u001b[32m━━━━━━━━━━━━━━━━━━━━\u001b[0m\u001b[37m\u001b[0m \u001b[1m239s\u001b[0m 556ms/step - accuracy: 0.0374 - loss: 4.4346 - val_accuracy: 0.1240 - val_loss: 3.7009\n",
            "Epoch 2/25\n",
            "\u001b[1m422/422\u001b[0m \u001b[32m━━━━━━━━━━━━━━━━━━━━\u001b[0m\u001b[37m\u001b[0m \u001b[1m180s\u001b[0m 427ms/step - accuracy: 0.1467 - loss: 3.6057 - val_accuracy: 0.2240 - val_loss: 3.1756\n",
            "Epoch 3/25\n",
            "\u001b[1m422/422\u001b[0m \u001b[32m━━━━━━━━━━━━━━━━━━━━\u001b[0m\u001b[37m\u001b[0m \u001b[1m146s\u001b[0m 346ms/step - accuracy: 0.2415 - loss: 3.0656 - val_accuracy: 0.3020 - val_loss: 2.7728\n",
            "Epoch 4/25\n",
            "\u001b[1m422/422\u001b[0m \u001b[32m━━━━━━━━━━━━━━━━━━━━\u001b[0m\u001b[37m\u001b[0m \u001b[1m151s\u001b[0m 357ms/step - accuracy: 0.3055 - loss: 2.7746 - val_accuracy: 0.3580 - val_loss: 2.6482\n",
            "Epoch 5/25\n",
            "\u001b[1m422/422\u001b[0m \u001b[32m━━━━━━━━━━━━━━━━━━━━\u001b[0m\u001b[37m\u001b[0m \u001b[1m180s\u001b[0m 427ms/step - accuracy: 0.3474 - loss: 2.5693 - val_accuracy: 0.3600 - val_loss: 2.5259\n",
            "Epoch 6/25\n",
            "\u001b[1m422/422\u001b[0m \u001b[32m━━━━━━━━━━━━━━━━━━━━\u001b[0m\u001b[37m\u001b[0m \u001b[1m191s\u001b[0m 453ms/step - accuracy: 0.3781 - loss: 2.4411 - val_accuracy: 0.4020 - val_loss: 2.4072\n",
            "Epoch 7/25\n",
            "\u001b[1m422/422\u001b[0m \u001b[32m━━━━━━━━━━━━━━━━━━━━\u001b[0m\u001b[37m\u001b[0m \u001b[1m211s\u001b[0m 500ms/step - accuracy: 0.4026 - loss: 2.2981 - val_accuracy: 0.3980 - val_loss: 2.3645\n",
            "Epoch 8/25\n",
            "\u001b[1m422/422\u001b[0m \u001b[32m━━━━━━━━━━━━━━━━━━━━\u001b[0m\u001b[37m\u001b[0m \u001b[1m162s\u001b[0m 383ms/step - accuracy: 0.4186 - loss: 2.2217 - val_accuracy: 0.4080 - val_loss: 2.3296\n",
            "Epoch 9/25\n",
            "\u001b[1m422/422\u001b[0m \u001b[32m━━━━━━━━━━━━━━━━━━━━\u001b[0m\u001b[37m\u001b[0m \u001b[1m236s\u001b[0m 560ms/step - accuracy: 0.4519 - loss: 2.0966 - val_accuracy: 0.3920 - val_loss: 2.2842\n",
            "Epoch 10/25\n",
            "\u001b[1m422/422\u001b[0m \u001b[32m━━━━━━━━━━━━━━━━━━━━\u001b[0m\u001b[37m\u001b[0m \u001b[1m243s\u001b[0m 516ms/step - accuracy: 0.4651 - loss: 2.0436 - val_accuracy: 0.4500 - val_loss: 2.2235\n",
            "Epoch 11/25\n",
            "\u001b[1m422/422\u001b[0m \u001b[32m━━━━━━━━━━━━━━━━━━━━\u001b[0m\u001b[37m\u001b[0m \u001b[1m149s\u001b[0m 352ms/step - accuracy: 0.4702 - loss: 1.9908 - val_accuracy: 0.4280 - val_loss: 2.1416\n",
            "Epoch 12/25\n",
            "\u001b[1m422/422\u001b[0m \u001b[32m━━━━━━━━━━━━━━━━━━━━\u001b[0m\u001b[37m\u001b[0m \u001b[1m185s\u001b[0m 439ms/step - accuracy: 0.5026 - loss: 1.8875 - val_accuracy: 0.4120 - val_loss: 2.2839\n",
            "Epoch 13/25\n",
            "\u001b[1m422/422\u001b[0m \u001b[32m━━━━━━━━━━━━━━━━━━━━\u001b[0m\u001b[37m\u001b[0m \u001b[1m143s\u001b[0m 338ms/step - accuracy: 0.5172 - loss: 1.8226 - val_accuracy: 0.4340 - val_loss: 2.2075\n",
            "Epoch 14/25\n",
            "\u001b[1m422/422\u001b[0m \u001b[32m━━━━━━━━━━━━━━━━━━━━\u001b[0m\u001b[37m\u001b[0m \u001b[1m157s\u001b[0m 372ms/step - accuracy: 0.5137 - loss: 1.8070 - val_accuracy: 0.4100 - val_loss: 2.2586\n",
            "Epoch 15/25\n",
            "\u001b[1m422/422\u001b[0m \u001b[32m━━━━━━━━━━━━━━━━━━━━\u001b[0m\u001b[37m\u001b[0m \u001b[1m194s\u001b[0m 460ms/step - accuracy: 0.5233 - loss: 1.7695 - val_accuracy: 0.4500 - val_loss: 2.2516\n",
            "Epoch 16/25\n",
            "\u001b[1m422/422\u001b[0m \u001b[32m━━━━━━━━━━━━━━━━━━━━\u001b[0m\u001b[37m\u001b[0m \u001b[1m167s\u001b[0m 395ms/step - accuracy: 0.5320 - loss: 1.7289 - val_accuracy: 0.4420 - val_loss: 2.2383\n",
            "Epoch 17/25\n",
            "\u001b[1m422/422\u001b[0m \u001b[32m━━━━━━━━━━━━━━━━━━━━\u001b[0m\u001b[37m\u001b[0m \u001b[1m255s\u001b[0m 605ms/step - accuracy: 0.5482 - loss: 1.6705 - val_accuracy: 0.4080 - val_loss: 2.3461\n",
            "Epoch 18/25\n",
            "\u001b[1m422/422\u001b[0m \u001b[32m━━━━━━━━━━━━━━━━━━━━\u001b[0m\u001b[37m\u001b[0m \u001b[1m236s\u001b[0m 560ms/step - accuracy: 0.5617 - loss: 1.6182 - val_accuracy: 0.4120 - val_loss: 2.2649\n",
            "Epoch 19/25\n",
            "\u001b[1m422/422\u001b[0m \u001b[32m━━━━━━━━━━━━━━━━━━━━\u001b[0m\u001b[37m\u001b[0m \u001b[1m302s\u001b[0m 717ms/step - accuracy: 0.5566 - loss: 1.6099 - val_accuracy: 0.4500 - val_loss: 2.1217\n",
            "Epoch 20/25\n",
            "\u001b[1m422/422\u001b[0m \u001b[32m━━━━━━━━━━━━━━━━━━━━\u001b[0m\u001b[37m\u001b[0m \u001b[1m166s\u001b[0m 393ms/step - accuracy: 0.5845 - loss: 1.5333 - val_accuracy: 0.4460 - val_loss: 2.1735\n",
            "Epoch 21/25\n",
            "\u001b[1m422/422\u001b[0m \u001b[32m━━━━━━━━━━━━━━━━━━━━\u001b[0m\u001b[37m\u001b[0m \u001b[1m173s\u001b[0m 410ms/step - accuracy: 0.5830 - loss: 1.4927 - val_accuracy: 0.4000 - val_loss: 2.4033\n",
            "Epoch 22/25\n",
            "\u001b[1m422/422\u001b[0m \u001b[32m━━━━━━━━━━━━━━━━━━━━\u001b[0m\u001b[37m\u001b[0m \u001b[1m237s\u001b[0m 562ms/step - accuracy: 0.5920 - loss: 1.4677 - val_accuracy: 0.4380 - val_loss: 2.2214\n",
            "Epoch 23/25\n",
            "\u001b[1m422/422\u001b[0m \u001b[32m━━━━━━━━━━━━━━━━━━━━\u001b[0m\u001b[37m\u001b[0m \u001b[1m166s\u001b[0m 393ms/step - accuracy: 0.5939 - loss: 1.4552 - val_accuracy: 0.4260 - val_loss: 2.2677\n",
            "Epoch 24/25\n",
            "\u001b[1m422/422\u001b[0m \u001b[32m━━━━━━━━━━━━━━━━━━━━\u001b[0m\u001b[37m\u001b[0m \u001b[1m160s\u001b[0m 379ms/step - accuracy: 0.6115 - loss: 1.4131 - val_accuracy: 0.4280 - val_loss: 2.2490\n",
            "Epoch 25/25\n",
            "\u001b[1m422/422\u001b[0m \u001b[32m━━━━━━━━━━━━━━━━━━━━\u001b[0m\u001b[37m\u001b[0m \u001b[1m147s\u001b[0m 348ms/step - accuracy: 0.6189 - loss: 1.3964 - val_accuracy: 0.4400 - val_loss: 2.2510\n"
          ]
        },
        {
          "data": {
            "text/plain": [
              "<keras.src.callbacks.history.History at 0x7ff22a2ebc20>"
            ]
          },
          "execution_count": 14,
          "metadata": {},
          "output_type": "execute_result"
        }
      ],
      "source": [
        "cnn.fit(x = train_set, validation_data = valid_set, epochs = 25)"
      ]
    },
    {
      "cell_type": "markdown",
      "id": "1ada2762",
      "metadata": {},
      "source": [
        "## 結果の出力"
      ]
    },
    {
      "cell_type": "code",
      "execution_count": 15,
      "id": "e5e4bee8",
      "metadata": {},
      "outputs": [
        {
          "name": "stderr",
          "output_type": "stream",
          "text": [
            "WARNING:absl:You are saving your model as an HDF5 file via `model.save()` or `keras.saving.save_model(model)`. This file format is considered legacy. We recommend using instead the native Keras format, e.g. `model.save('my_model.keras')` or `keras.saving.save_model(model, 'my_model.keras')`. \n"
          ]
        },
        {
          "name": "stdout",
          "output_type": "stream",
          "text": [
            "クラスインデックス（class_indices）を JSON 出力しました。\n",
            "モデルを保存しました。\n"
          ]
        }
      ],
      "source": [
        "import os\n",
        "import json\n",
        "\n",
        "# クラス名のマッピング（index → label）\n",
        "class_indices = train_set.class_indices\n",
        "\n",
        "# 保存用ディレクトリ\n",
        "model_path = './ml'\n",
        "os.makedirs(model_path, exist_ok=True)\n",
        "\n",
        "# class_indices を JSON に保存（例: { 'air hockey': 0, 'archery': 1, ... }）\n",
        "with open(os.path.join(model_path, \"class_indices.json\"), \"w\") as f:\n",
        "    json.dump(class_indices, f, indent=2, ensure_ascii=False)\n",
        "print(\"クラスインデックス（class_indices）を JSON 出力しました。\")\n",
        "\n",
        "# モデル保存\n",
        "cnn.save(os.path.join(model_path, 'model.h5'))\n",
        "print(\"モデルを保存しました。\")\n"
      ]
    }
  ],
  "metadata": {
    "kernelspec": {
      "display_name": "Python 3",
      "language": "python",
      "name": "python3"
    },
    "language_info": {
      "codemirror_mode": {
        "name": "ipython",
        "version": 3
      },
      "file_extension": ".py",
      "mimetype": "text/x-python",
      "name": "python",
      "nbconvert_exporter": "python",
      "pygments_lexer": "ipython3",
      "version": "3.12.11"
    }
  },
  "nbformat": 4,
  "nbformat_minor": 5
}
