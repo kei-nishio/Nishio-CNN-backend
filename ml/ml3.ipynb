{
 "cells": [
  {
   "cell_type": "code",
   "execution_count": null,
   "id": "ee0dc0a0",
   "metadata": {},
   "outputs": [],
   "source": [
    "# ---\n",
    "# jupyter:\n",
    "#   jupytext:\n",
    "#     text_representation:\n",
    "#       extension: .py\n",
    "#       format_name: percent\n",
    "#       format_version: '1.3'\n",
    "#       jupytext_version: 1.17.2\n",
    "#   kernelspec:\n",
    "#     display_name: Python 3\n",
    "#     language: python\n",
    "#     name: python3"
   ]
  },
  {
   "cell_type": "markdown",
   "id": "76023547",
   "metadata": {},
   "source": [
    "# 100 Sports Image Classification"
   ]
  },
  {
   "cell_type": "markdown",
   "id": "51a19778",
   "metadata": {
    "lines_to_next_cell": 0
   },
   "source": [
    "## Google Drive mount for Google Colab"
   ]
  },
  {
   "cell_type": "code",
   "execution_count": null,
   "id": "c887b5be",
   "metadata": {},
   "outputs": [],
   "source": [
    "# from google.colab import drive\n",
    "# drive.mount('/content/drive')"
   ]
  },
  {
   "cell_type": "markdown",
   "id": "689e6481",
   "metadata": {
    "lines_to_next_cell": 0
   },
   "source": [
    "## for Google Colab"
   ]
  },
  {
   "cell_type": "code",
   "execution_count": null,
   "id": "786fe6ed",
   "metadata": {},
   "outputs": [],
   "source": [
    "# !pwd\n",
    "# !pip install tensorflow\n",
    "# !nvidia-smi"
   ]
  },
  {
   "cell_type": "markdown",
   "id": "0579b1e2",
   "metadata": {
    "lines_to_next_cell": 0
   },
   "source": [
    "## データのインポート"
   ]
  },
  {
   "cell_type": "code",
   "execution_count": null,
   "id": "a972a79e",
   "metadata": {},
   "outputs": [],
   "source": [
    "# import kagglehub\n",
    "# path = kagglehub.dataset_download(\"gpiosenka/sports-classification\")\n",
    "# print(\"Path to dataset files:\", path)"
   ]
  },
  {
   "cell_type": "markdown",
   "id": "714f5e8a",
   "metadata": {
    "lines_to_next_cell": 0
   },
   "source": [
    "## Config"
   ]
  },
  {
   "cell_type": "code",
   "execution_count": null,
   "id": "aece48b2",
   "metadata": {},
   "outputs": [],
   "source": [
    "EPOCHS = 100\n",
    "IMG_SIZE = 224\n",
    "BATCH_SIZE = 32\n",
    "LEARNING_RATE = 0.001"
   ]
  },
  {
   "cell_type": "markdown",
   "id": "10af20d6",
   "metadata": {
    "lines_to_next_cell": 0
   },
   "source": [
    "## Import"
   ]
  },
  {
   "cell_type": "code",
   "execution_count": null,
   "id": "ca057ca8",
   "metadata": {},
   "outputs": [],
   "source": [
    "import datetime\n",
    "import json\n",
    "import os\n",
    "import pandas as pd"
   ]
  },
  {
   "cell_type": "markdown",
   "id": "479f5bc2",
   "metadata": {},
   "source": [
    "## データの表示"
   ]
  },
  {
   "cell_type": "code",
   "execution_count": null,
   "id": "91eacd54",
   "metadata": {},
   "outputs": [],
   "source": [
    "# data_path = '/content/drive/MyDrive/python/_test_cnn/archive/' # for google colab\n",
    "# data_path = '/content/drive/MyDrive/python/_test_cnn/archive_mini/' # for google colab\n",
    "data_path = './kagglehub_cache/datasets/gpiosenka/sports-classification/versions/9/'\n",
    "# data_path = \"./test_data/\"\n",
    "csv_path = data_path + \"sports.csv\"\n",
    "df = pd.read_csv(csv_path)\n",
    "df.head()"
   ]
  },
  {
   "cell_type": "markdown",
   "id": "517e0ae7",
   "metadata": {
    "lines_to_next_cell": 0
   },
   "source": [
    "### カテゴリ列のユニーク値チェック"
   ]
  },
  {
   "cell_type": "code",
   "execution_count": null,
   "id": "090f4d39",
   "metadata": {},
   "outputs": [],
   "source": [
    "categorical_columns = [\"data set\"]\n",
    "for col in categorical_columns:\n",
    "    if col in df.columns:\n",
    "        unique_values = df[col].value_counts()\n",
    "        print(f\"{col} 列のユニーク値 ({len(unique_values)} 個):\")\n",
    "        for value, count in unique_values.items():\n",
    "            print(f\"  {value}: {count} 件\")"
   ]
  },
  {
   "cell_type": "markdown",
   "id": "595dd7b4",
   "metadata": {
    "lines_to_next_cell": 0
   },
   "source": [
    "## データの分離"
   ]
  },
  {
   "cell_type": "code",
   "execution_count": null,
   "id": "729857ef",
   "metadata": {},
   "outputs": [],
   "source": [
    "df_train = df[df[\"data set\"] == \"train\"]\n",
    "df_test = df[df[\"data set\"] == \"test\"]\n",
    "df_valid = df[df[\"data set\"] == \"valid\"]"
   ]
  },
  {
   "cell_type": "markdown",
   "id": "94ff4073",
   "metadata": {
    "lines_to_next_cell": 0
   },
   "source": [
    "## CNN"
   ]
  },
  {
   "cell_type": "code",
   "execution_count": null,
   "id": "33225c57",
   "metadata": {},
   "outputs": [],
   "source": [
    "import tensorflow as tf\n",
    "from tensorflow.keras.preprocessing.image import ImageDataGenerator"
   ]
  },
  {
   "cell_type": "markdown",
   "id": "121c0d2a",
   "metadata": {
    "lines_to_next_cell": 0
   },
   "source": [
    "### データの前処理"
   ]
  },
  {
   "cell_type": "code",
   "execution_count": null,
   "id": "07c6d3f5",
   "metadata": {},
   "outputs": [],
   "source": [
    "train_datagen = ImageDataGenerator(\n",
    "    rescale=1.0 / 255,\n",
    "    rotation_range=15,\n",
    "    zoom_range=0.1,\n",
    "    width_shift_range=0.1,\n",
    "    height_shift_range=0.1,\n",
    "    horizontal_flip=True,\n",
    "    brightness_range=[0.8, 1.2],\n",
    "    validation_split=0.2,  # 20%をvalidationに分割\n",
    ")\n",
    "\n",
    "# トレーニングデータ（80%）\n",
    "train_set = train_datagen.flow_from_directory(\n",
    "    data_path + \"train\",\n",
    "    target_size=(IMG_SIZE, IMG_SIZE),\n",
    "    batch_size=BATCH_SIZE,\n",
    "    class_mode=\"categorical\",\n",
    "    subset=\"training\",  # トレーニング用のサブセット\n",
    ")\n",
    "\n",
    "# バリデーションデータ（20%）- データ拡張なし\n",
    "valid_datagen = ImageDataGenerator(rescale=1.0 / 255, validation_split=0.2)\n",
    "valid_set = valid_datagen.flow_from_directory(\n",
    "    data_path + \"train\",  # 同じtrainフォルダから分割\n",
    "    target_size=(IMG_SIZE, IMG_SIZE),\n",
    "    batch_size=BATCH_SIZE,\n",
    "    class_mode=\"categorical\",\n",
    "    subset=\"validation\",  # バリデーション用のサブセット\n",
    "    shuffle=False,\n",
    ")\n",
    "\n",
    "# テストデータ（元のtestフォルダを使用）\n",
    "test_datagen = ImageDataGenerator(rescale=1.0 / 255)\n",
    "test_set = test_datagen.flow_from_directory(\n",
    "    data_path + \"test\",\n",
    "    target_size=(IMG_SIZE, IMG_SIZE),\n",
    "    batch_size=BATCH_SIZE,\n",
    "    class_mode=\"categorical\",\n",
    "    shuffle=False,\n",
    ")"
   ]
  },
  {
   "cell_type": "markdown",
   "id": "124e9e72",
   "metadata": {
    "lines_to_next_cell": 0
   },
   "source": [
    "### クラス数の検出"
   ]
  },
  {
   "cell_type": "code",
   "execution_count": null,
   "id": "80eae91a",
   "metadata": {},
   "outputs": [],
   "source": [
    "OUTPUT_LAYER_SIZE = len(train_set.class_indices)\n",
    "print(f\"検出されたクラス数: {OUTPUT_LAYER_SIZE}\")"
   ]
  },
  {
   "cell_type": "markdown",
   "id": "8a8942df",
   "metadata": {
    "lines_to_next_cell": 0
   },
   "source": [
    "### データの概要確認"
   ]
  },
  {
   "cell_type": "code",
   "execution_count": null,
   "id": "5fbad9fe",
   "metadata": {},
   "outputs": [],
   "source": [
    "print(\"\\n===== クラスインデックス確認 =====\")\n",
    "print(\"train:\", train_set.class_indices)\n",
    "print(\"valid:\", valid_set.class_indices)\n",
    "print(\"test :\", test_set.class_indices)\n",
    "\n",
    "print(\"\\n===== データセットサイズ確認 =====\")\n",
    "print(f\"train samples: {train_set.samples} (trainフォルダの80%)\")\n",
    "print(f\"valid samples: {valid_set.samples} (trainフォルダの20%)\")\n",
    "print(f\"test samples: {test_set.samples} (元のtestフォルダ)\")\n",
    "print(f\"batch size: {BATCH_SIZE}\")\n",
    "print(f\"valid batches per epoch: {len(valid_set)}\")\n",
    "print(f\"train batches per epoch: {len(train_set)}\")\n",
    "\n",
    "# validationセットサイズの確認\n",
    "if valid_set.samples >= 200:\n",
    "    print(f\"\\n✅ Validationデータが充分あります（{valid_set.samples}枚）\")\n",
    "    print(\"   - 安定した評価が期待できます\")\n",
    "elif valid_set.samples >= 100:\n",
    "    print(f\"\\n🟡 Validationデータは最低限あります（{valid_set.samples}枚）\")\n",
    "    print(\"   - 評価はある程度安定します\")\n",
    "else:\n",
    "    print(\n",
    "        f\"\\n⚠️  WARNING: Validationデータがまだ少ないです（{valid_set.samples}枚）\"\n",
    "    )\n",
    "    print(\"   - より多くのtrainデータが必要かもしれません\")"
   ]
  },
  {
   "cell_type": "markdown",
   "id": "cbe1aa76",
   "metadata": {
    "lines_to_next_cell": 0
   },
   "source": [
    "### CNNの構築"
   ]
  },
  {
   "cell_type": "code",
   "execution_count": null,
   "id": "c7bc3f09",
   "metadata": {},
   "outputs": [],
   "source": [
    "cnn = tf.keras.models.Sequential(\n",
    "    [\n",
    "        # input layer\n",
    "        tf.keras.layers.Input(shape=(IMG_SIZE, IMG_SIZE, 3)),\n",
    "        # Block 1\n",
    "        tf.keras.layers.Conv2D(32, 3, activation=\"relu\", padding=\"same\"),\n",
    "        tf.keras.layers.Conv2D(32, 3, activation=\"relu\", padding=\"same\"),\n",
    "        tf.keras.layers.MaxPooling2D(2),\n",
    "        tf.keras.layers.BatchNormalization(),\n",
    "\n",
    "        # Block 2\n",
    "        tf.keras.layers.Conv2D(64, 3, activation=\"relu\", padding=\"same\"),\n",
    "        tf.keras.layers.Conv2D(64, 3, activation=\"relu\", padding=\"same\"),\n",
    "        tf.keras.layers.MaxPooling2D(2),\n",
    "        tf.keras.layers.BatchNormalization(),\n",
    "        tf.keras.layers.Dropout(0.25),\n",
    "\n",
    "        # Block 3\n",
    "        tf.keras.layers.Conv2D(128, 3, activation=\"relu\", padding=\"same\"),\n",
    "        tf.keras.layers.Conv2D(128, 3, activation=\"relu\", padding=\"same\"),\n",
    "        tf.keras.layers.MaxPooling2D(2),\n",
    "        tf.keras.layers.BatchNormalization(),\n",
    "\n",
    "        # Block 4\n",
    "        tf.keras.layers.Conv2D(256, 3, activation=\"relu\", padding=\"same\"),\n",
    "        tf.keras.layers.Conv2D(256, 3, activation=\"relu\", padding=\"same\"),\n",
    "        tf.keras.layers.MaxPooling2D(2),\n",
    "        tf.keras.layers.BatchNormalization(),\n",
    "        tf.keras.layers.Dropout(0.25),\n",
    "\n",
    "        # Dense layers\n",
    "        tf.keras.layers.GlobalAveragePooling2D(),\n",
    "        tf.keras.layers.Dense(1024, activation=\"relu\"),\n",
    "        tf.keras.layers.BatchNormalization(),\n",
    "        tf.keras.layers.Dropout(0.5),\n",
    "        tf.keras.layers.Dense(512, activation=\"relu\"),\n",
    "        tf.keras.layers.Dropout(0.5),\n",
    "\n",
    "        # Output layer\n",
    "        tf.keras.layers.Dense(units=OUTPUT_LAYER_SIZE, activation=\"softmax\"),\n",
    "    ]\n",
    ")"
   ]
  },
  {
   "cell_type": "markdown",
   "id": "1e124498",
   "metadata": {
    "lines_to_next_cell": 0
   },
   "source": [
    "### モデルのコンパイル"
   ]
  },
  {
   "cell_type": "code",
   "execution_count": null,
   "id": "023a7341",
   "metadata": {},
   "outputs": [],
   "source": [
    "cnn.compile(\n",
    "    optimizer=tf.keras.optimizers.Adam(\n",
    "        learning_rate=LEARNING_RATE\n",
    "    ),\n",
    "    loss=\"categorical_crossentropy\",\n",
    "    metrics=[\n",
    "        tf.keras.metrics.CategoricalAccuracy(name=\"accuracy\"),\n",
    "        tf.keras.metrics.TopKCategoricalAccuracy(k=3, name=\"top3_acc\"),\n",
    "        tf.keras.metrics.TopKCategoricalAccuracy(k=5, name=\"top5_acc\"),\n",
    "    ],\n",
    ")"
   ]
  },
  {
   "cell_type": "markdown",
   "id": "9dc78fc6",
   "metadata": {
    "lines_to_next_cell": 0
   },
   "source": [
    "### Early Stopping"
   ]
  },
  {
   "cell_type": "code",
   "execution_count": null,
   "id": "c0e6b692",
   "metadata": {
    "lines_to_next_cell": 2
   },
   "outputs": [],
   "source": [
    "early_stopping = tf.keras.callbacks.EarlyStopping(\n",
    "    monitor=\"val_loss\", patience=15, restore_best_weights=True, verbose=1\n",
    ")"
   ]
  },
  {
   "cell_type": "markdown",
   "id": "a6d0a503",
   "metadata": {
    "lines_to_next_cell": 0
   },
   "source": [
    "### 学習率スケジューラー"
   ]
  },
  {
   "cell_type": "code",
   "execution_count": null,
   "id": "350379ee",
   "metadata": {},
   "outputs": [],
   "source": [
    "reduce_lr = tf.keras.callbacks.ReduceLROnPlateau(\n",
    "    monitor=\"val_loss\", factor=0.5, patience=7, min_lr=1e-7, verbose=1\n",
    ")"
   ]
  },
  {
   "cell_type": "markdown",
   "id": "0b4cad36",
   "metadata": {
    "lines_to_next_cell": 0
   },
   "source": [
    "### モデル構造の概要"
   ]
  },
  {
   "cell_type": "code",
   "execution_count": null,
   "id": "3c07f1b7",
   "metadata": {},
   "outputs": [],
   "source": [
    "print(\"\\n===== モデル構造 =====\")\n",
    "cnn.summary()\n",
    "\n",
    "print(\"\\n===== 学習設定 =====\")\n",
    "print(f\"学習率: {LEARNING_RATE}\")\n",
    "print(f\"バッチサイズ: {BATCH_SIZE}\")\n",
    "print(f\"画像サイズ: {IMG_SIZE}x{IMG_SIZE}\")\n",
    "print(f\"最大エポック: {EPOCHS}\")"
   ]
  },
  {
   "cell_type": "markdown",
   "id": "5eca84e8",
   "metadata": {
    "lines_to_next_cell": 0
   },
   "source": [
    "### 学習の実行"
   ]
  },
  {
   "cell_type": "code",
   "execution_count": null,
   "id": "33e6898f",
   "metadata": {},
   "outputs": [],
   "source": [
    "history = cnn.fit(\n",
    "    x=train_set,\n",
    "    validation_data=valid_set,\n",
    "    epochs=EPOCHS,\n",
    "    callbacks=[early_stopping, reduce_lr],\n",
    "    verbose=1,\n",
    ")"
   ]
  },
  {
   "cell_type": "markdown",
   "id": "34500c01",
   "metadata": {
    "lines_to_next_cell": 0
   },
   "source": [
    "### 評価と保存（＋分類レポートと混同行列）"
   ]
  },
  {
   "cell_type": "code",
   "execution_count": null,
   "id": "b09fcfb4",
   "metadata": {},
   "outputs": [],
   "source": [
    "eval_results = cnn.evaluate(valid_set)\n",
    "print(\"\\n===== 評価結果 (evaluate) =====\")\n",
    "metrics_report = dict(zip(cnn.metrics_names, eval_results))\n",
    "for name, value in metrics_report.items():\n",
    "    print(f\"{name}: {value:.4f}\")\n",
    "\n",
    "print(\"\\n===== 最終バリデーションスコア（historyベース）=====\")\n",
    "for metric in [\"val_accuracy\", \"val_top3_acc\", \"val_top5_acc\"]:\n",
    "    val_list = history.history.get(metric)\n",
    "    if val_list:\n",
    "        print(f\"{metric} : {val_list[-1]:.4f}\")\n",
    "    else:\n",
    "        print(f\"{metric} : 指標が見つかりません\")\n",
    "\n",
    "# sklearnによる詳細評価\n",
    "from sklearn.metrics import classification_report, confusion_matrix\n",
    "import numpy as np\n",
    "\n",
    "# 正解ラベルと予測ラベル\n",
    "y_true = valid_set.classes\n",
    "y_pred_prob = cnn.predict(valid_set, verbose=0)\n",
    "y_pred = np.argmax(y_pred_prob, axis=1)\n",
    "\n",
    "# 分類レポート\n",
    "print(\"\\n===== Classification Report =====\")\n",
    "print(classification_report(y_true, y_pred, target_names=list(valid_set.class_indices.keys())))\n",
    "\n",
    "# 混同行列\n",
    "print(\"\\n===== Confusion Matrix =====\")\n",
    "cm = confusion_matrix(y_true, y_pred)\n",
    "print(cm)\n",
    "\n",
    "# 可視化（オプション）\n",
    "import seaborn as sns\n",
    "import matplotlib.pyplot as plt\n",
    "\n",
    "plt.figure(figsize=(12, 10))\n",
    "sns.heatmap(cm, annot=False, cmap=\"Blues\", fmt=\"d\")\n",
    "plt.title(\"Confusion Matrix\")\n",
    "plt.xlabel(\"Predicted\")\n",
    "plt.ylabel(\"True\")\n",
    "plt.tight_layout()\n",
    "plt.show()"
   ]
  },
  {
   "cell_type": "markdown",
   "id": "e4a5391b",
   "metadata": {
    "lines_to_next_cell": 0
   },
   "source": [
    "### データの保存"
   ]
  },
  {
   "cell_type": "code",
   "execution_count": null,
   "id": "1fcb8094",
   "metadata": {},
   "outputs": [],
   "source": [
    "timestamp = datetime.datetime.now().strftime(\"%Y%m%d_%H%M%S\")\n",
    "save_dir = os.path.join(\"./ml/model\", f\"run_{timestamp}\")\n",
    "os.makedirs(save_dir, exist_ok=True)\n",
    "\n",
    "with open(os.path.join(save_dir, \"class_indices.json\"), \"w\") as f:\n",
    "    json.dump(train_set.class_indices, f, indent=2, ensure_ascii=False)\n",
    "\n",
    "cnn.save(os.path.join(save_dir, \"model.keras\"))\n",
    "cnn.save(os.path.join(save_dir, \"model.h5\"))\n",
    "\n",
    "config = {\n",
    "    \"epochs\": EPOCHS,\n",
    "    \"img_size\": IMG_SIZE,\n",
    "    \"batch_size\": BATCH_SIZE,\n",
    "    \"output_layer_size\": OUTPUT_LAYER_SIZE,\n",
    "    \"save_format\": [\"keras\", \"h5\"],\n",
    "    \"metrics\": metrics_report,\n",
    "}\n",
    "with open(os.path.join(save_dir, \"config.json\"), \"w\") as f:\n",
    "    json.dump(config, f, indent=2, ensure_ascii=False)\n",
    "\n",
    "print(\"\\nモデル・設定を保存しました。保存先:\", save_dir)"
   ]
  }
 ],
 "metadata": {
  "jupytext": {
   "cell_metadata_filter": "-all",
   "main_language": "python",
   "notebook_metadata_filter": "-all"
  },
  "kernelspec": {
   "display_name": "Python 3",
   "language": "python",
   "name": "python3"
  },
  "language_info": {
   "codemirror_mode": {
    "name": "ipython",
    "version": 3
   },
   "file_extension": ".py",
   "mimetype": "text/x-python",
   "name": "python",
   "nbconvert_exporter": "python",
   "pygments_lexer": "ipython3",
   "version": "3.12.11"
  }
 },
 "nbformat": 4,
 "nbformat_minor": 5
}
