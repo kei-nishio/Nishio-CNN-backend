{
 "cells": [
  {
   "cell_type": "markdown",
   "id": "b5da195a",
   "metadata": {},
   "source": [
    "## ライブラリのインポート\n",
    "評価に必要な主要ライブラリを読み込み"
   ]
  },
  {
   "cell_type": "code",
   "execution_count": null,
   "id": "6e5f2d20",
   "metadata": {},
   "outputs": [],
   "source": [
    "import pandas as pd\n",
    "import numpy as np\n",
    "import joblib\n",
    "import json\n",
    "import re\n",
    "from pathlib import Path\n",
    "import matplotlib.pyplot as plt\n",
    "import seaborn as sns\n",
    "from sklearn.compose import ColumnTransformer\n",
    "from sklearn.preprocessing import OneHotEncoder"
   ]
  },
  {
   "cell_type": "markdown",
   "id": "f62313c3",
   "metadata": {},
   "source": [
    "## パスの設定\n",
    "モデル・データ・エンコーダのパスを定義"
   ]
  },
  {
   "cell_type": "code",
   "execution_count": null,
   "id": "18c7a82d",
   "metadata": {},
   "outputs": [],
   "source": [
    "BASE_DIR = Path(\"/usr/src/app/backend\")\n",
    "data_path = BASE_DIR / \"data\" / \"raw\" / \"test-data.csv\"\n",
    "model_path = BASE_DIR / \"ml\" / \"models\" / \"ml_model.pkl\""
   ]
  },
  {
   "cell_type": "markdown",
   "id": "6886a537",
   "metadata": {},
   "source": [
    "## テストデータの読み込み"
   ]
  },
  {
   "cell_type": "code",
   "execution_count": null,
   "id": "c9538bcb",
   "metadata": {},
   "outputs": [],
   "source": [
    "df = pd.read_csv(data_path)"
   ]
  },
  {
   "cell_type": "markdown",
   "id": "6ab7a98b",
   "metadata": {},
   "source": [
    "## 不要列の削除\n",
    "分析に不要な列を削除"
   ]
  },
  {
   "cell_type": "code",
   "execution_count": null,
   "id": "b98227fe",
   "metadata": {},
   "outputs": [],
   "source": [
    "df = df.drop(columns=[\"Unnamed: 0\", \"Name\", \"New_Price\"], errors='ignore')"
   ]
  },
  {
   "cell_type": "markdown",
   "id": "c2166cfc",
   "metadata": {},
   "source": [
    "## 単位除去と数値変換\n",
    "'kmpl', 'CC', 'bhp'などの単位を除去し数値型に変換"
   ]
  },
  {
   "cell_type": "code",
   "execution_count": null,
   "id": "a76e15bd",
   "metadata": {},
   "outputs": [],
   "source": [
    "columns_with_units = ['Mileage', 'Engine', 'Power']\n",
    "for col in columns_with_units:\n",
    "    df[col] = df[col].astype(str).str.extract(r'([\\d.]+)')[0]\n",
    "    df[col] = pd.to_numeric(df[col], errors='coerce')"
   ]
  },
  {
   "cell_type": "markdown",
   "id": "33b2b480",
   "metadata": {},
   "source": [
    "## 無効なレコードの除外\n",
    "Mileageが0のレコードを除外"
   ]
  },
  {
   "cell_type": "code",
   "execution_count": null,
   "id": "91ae8d66",
   "metadata": {},
   "outputs": [],
   "source": [
    "df = df[df['Mileage'] != 0]"
   ]
  },
  {
   "cell_type": "markdown",
   "id": "6c536e6c",
   "metadata": {},
   "source": [
    "## 欠損値の補完\n",
    "数値列の欠損を中央値で補完"
   ]
  },
  {
   "cell_type": "code",
   "execution_count": null,
   "id": "1c699a00",
   "metadata": {},
   "outputs": [],
   "source": [
    "for col in ['Mileage', 'Engine', 'Power', 'Seats']:\n",
    "    if col in df.columns:\n",
    "        df[col] = df[col].fillna(df[col].median())"
   ]
  },
  {
   "cell_type": "markdown",
   "id": "48dc2cfa",
   "metadata": {},
   "source": [
    "## カテゴリ列の指定\n",
    "モデル学習時に使用したカテゴリ列を指定"
   ]
  },
  {
   "cell_type": "code",
   "execution_count": null,
   "id": "fbba6110",
   "metadata": {},
   "outputs": [],
   "source": [
    "categorical_columns = ['Fuel_Type', 'Transmission', 'Owner_Type', 'Location']"
   ]
  },
  {
   "cell_type": "markdown",
   "id": "9c400835",
   "metadata": {},
   "source": [
    "## モデルの読み込み"
   ]
  },
  {
   "cell_type": "code",
   "execution_count": null,
   "id": "561514d6",
   "metadata": {},
   "outputs": [],
   "source": [
    "model = joblib.load(model_path)"
   ]
  },
  {
   "cell_type": "markdown",
   "id": "56b10995",
   "metadata": {},
   "source": [
    "## カテゴリ変数のエンコーディング\n",
    "保存済エンコーダ（OneHotEncoder）を使用してカテゴリ変数をエンコード"
   ]
  },
  {
   "cell_type": "code",
   "execution_count": null,
   "id": "a7a2dea5",
   "metadata": {},
   "outputs": [],
   "source": [
    "encoder_path = BASE_DIR / \"ml\" / \"models\" / \"ml_encoder.pkl\"\n",
    "ct = joblib.load(encoder_path)\n",
    "X = ct.transform(df)"
   ]
  },
  {
   "cell_type": "markdown",
   "id": "51501e0c",
   "metadata": {},
   "source": [
    "## 予測の実行"
   ]
  },
  {
   "cell_type": "code",
   "execution_count": null,
   "id": "a12b7231",
   "metadata": {},
   "outputs": [],
   "source": [
    "y_pred = model.predict(X)"
   ]
  },
  {
   "cell_type": "markdown",
   "id": "1a597a4b",
   "metadata": {},
   "source": [
    "## 予測結果のデータフレーム作成"
   ]
  },
  {
   "cell_type": "code",
   "execution_count": null,
   "id": "d34132b8",
   "metadata": {},
   "outputs": [],
   "source": [
    "result_df = df.copy()\n",
    "result_df['Predicted_Price'] = y_pred"
   ]
  },
  {
   "cell_type": "markdown",
   "id": "72bc8ed3",
   "metadata": {},
   "source": [
    "## 予測結果のヒストグラム表示"
   ]
  },
  {
   "cell_type": "code",
   "execution_count": null,
   "id": "67bd69ca",
   "metadata": {},
   "outputs": [],
   "source": [
    "plt.figure(figsize=(10, 5))\n",
    "plt.hist(y_pred, bins=30, edgecolor='black', alpha=0.7)\n",
    "plt.title(\"Predicted Price Distribution\")\n",
    "plt.xlabel(\"Price\")\n",
    "plt.ylabel(\"Frequency\")\n",
    "plt.grid(axis='y', alpha=0.3)\n",
    "plt.tight_layout()\n",
    "plt.show()"
   ]
  },
  {
   "cell_type": "markdown",
   "id": "2894c9c1",
   "metadata": {},
   "source": [
    "## 予測結果の表示"
   ]
  },
  {
   "cell_type": "code",
   "execution_count": null,
   "id": "2c48252a",
   "metadata": {},
   "outputs": [],
   "source": [
    "pd.set_option('display.float_format', '{:,.0f}'.format)\n",
    "display(result_df[['Location', 'Year', 'Fuel_Type', 'Transmission', 'Owner_Type',\n",
    "                   'Engine', 'Power', 'Mileage', 'Seats', 'Predicted_Price']])"
   ]
  }
 ],
 "metadata": {
  "jupytext": {
   "cell_metadata_filter": "-all",
   "main_language": "python",
   "notebook_metadata_filter": "-all"
  },
  "kernelspec": {
   "display_name": "Python 3",
   "language": "python",
   "name": "python3"
  },
  "language_info": {
   "codemirror_mode": {
    "name": "ipython",
    "version": 3
   },
   "file_extension": ".py",
   "mimetype": "text/x-python",
   "name": "python",
   "nbconvert_exporter": "python",
   "pygments_lexer": "ipython3",
   "version": "3.12.11"
  }
 },
 "nbformat": 4,
 "nbformat_minor": 5
}
