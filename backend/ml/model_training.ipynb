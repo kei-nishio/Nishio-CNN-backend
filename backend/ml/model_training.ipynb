{
 "cells": [
  {
   "cell_type": "markdown",
   "id": "a0139e93",
   "metadata": {},
   "source": [
    "# 100 Sports Image Classification"
   ]
  },
  {
   "cell_type": "markdown",
   "id": "fec69d0c",
   "metadata": {},
   "source": [
    "## データのインポート"
   ]
  },
  {
   "cell_type": "code",
   "execution_count": null,
   "id": "1f18044e",
   "metadata": {},
   "outputs": [],
   "source": [
    "# 初回のみ実行\n",
    "\n",
    "# import kagglehub\n",
    "\n",
    "# # Download latest version\n",
    "# path = kagglehub.dataset_download(\"gpiosenka/sports-classification\")\n",
    "\n",
    "# print(\"Path to dataset files:\", path)"
   ]
  },
  {
   "cell_type": "markdown",
   "id": "1a9b5278",
   "metadata": {},
   "source": [
    "## データの表示"
   ]
  },
  {
   "cell_type": "code",
   "execution_count": null,
   "id": "bd812233",
   "metadata": {},
   "outputs": [],
   "source": [
    "import pandas as pd\n",
    "\n",
    "data_path = './kagglehub_cache/datasets/gpiosenka/sports-classification/versions/9/'\n",
    "csv_path = data_path + 'sports.csv'\n",
    "df = pd.read_csv(csv_path)\n",
    "df.head()"
   ]
  },
  {
   "cell_type": "markdown",
   "id": "881ccc71",
   "metadata": {},
   "source": [
    "### カテゴリ列のユニーク値チェック"
   ]
  },
  {
   "cell_type": "code",
   "execution_count": null,
   "id": "0ac917b5",
   "metadata": {},
   "outputs": [],
   "source": [
    "# categorical_columns = [\"labels\",'data set']\n",
    "categorical_columns = ['data set']\n",
    "for col in categorical_columns:\n",
    "    if col in df.columns:\n",
    "        unique_values = df[col].value_counts()\n",
    "        print(f\"{col} 列のユニーク値 ({len(unique_values)} 個):\")\n",
    "        for value, count in unique_values.items():\n",
    "            print(f\"  {value}: {count} 件\")"
   ]
  },
  {
   "cell_type": "markdown",
   "id": "e8a00fa6",
   "metadata": {},
   "source": [
    "## データの分離"
   ]
  },
  {
   "cell_type": "code",
   "execution_count": null,
   "id": "79bc47f0",
   "metadata": {},
   "outputs": [],
   "source": [
    "df_train = df[df['data set'] == 'train']\n",
    "df_test = df[df['data set'] == 'test']\n",
    "df_valid = df[df['data set'] == 'valid']\n",
    "\n",
    "display(df_train.head())\n",
    "# display(df_test.head())\n",
    "# display(df_valid.head())"
   ]
  },
  {
   "cell_type": "markdown",
   "id": "9e210fe4",
   "metadata": {},
   "source": [
    "## CNN"
   ]
  },
  {
   "cell_type": "code",
   "execution_count": null,
   "id": "4b90f06b",
   "metadata": {},
   "outputs": [],
   "source": [
    "import tensorflow as tf\n",
    "from tensorflow.keras.preprocessing.image import ImageDataGenerator"
   ]
  },
  {
   "cell_type": "markdown",
   "id": "52e5350b",
   "metadata": {},
   "source": [
    "### データの前処理"
   ]
  },
  {
   "cell_type": "markdown",
   "id": "2f2d0734",
   "metadata": {},
   "source": [
    "#### 訓練用データセットの前処理"
   ]
  },
  {
   "cell_type": "code",
   "execution_count": null,
   "id": "3ed51942",
   "metadata": {},
   "outputs": [],
   "source": [
    "train_datagen = ImageDataGenerator(rescale = 1./255,\n",
    "                                   shear_range = 0.2,\n",
    "                                   zoom_range = 0.2,\n",
    "                                   horizontal_flip = True)\n",
    "print(data_path + 'train')\n",
    "train_set = train_datagen.flow_from_directory(data_path + 'train',\n",
    "                                                 target_size = (64, 64),\n",
    "                                                 batch_size = 32,\n",
    "                                                 class_mode = 'binary')"
   ]
  },
  {
   "cell_type": "markdown",
   "id": "05694ef3",
   "metadata": {},
   "source": [
    "#### 検証用データセットの前処理"
   ]
  },
  {
   "cell_type": "code",
   "execution_count": null,
   "id": "f7c9901a",
   "metadata": {},
   "outputs": [],
   "source": [
    "valid_datagen = ImageDataGenerator(rescale = 1./255,\n",
    "                                   shear_range = 0.2,\n",
    "                                   zoom_range = 0.2,\n",
    "                                   horizontal_flip = True)\n",
    "print(data_path + 'train')\n",
    "valid_set = valid_datagen.flow_from_directory(data_path + 'valid',\n",
    "                                                 target_size = (64, 64),\n",
    "                                                 batch_size = 32,\n",
    "                                                 class_mode = 'binary')"
   ]
  },
  {
   "cell_type": "markdown",
   "id": "9f9c9cde",
   "metadata": {},
   "source": [
    "#### テストデータセットの前処理"
   ]
  },
  {
   "cell_type": "code",
   "execution_count": null,
   "id": "5e2ff1de",
   "metadata": {},
   "outputs": [],
   "source": [
    "test_datagen = ImageDataGenerator(rescale = 1./255,\n",
    "                                   shear_range = 0.2,\n",
    "                                   zoom_range = 0.2,\n",
    "                                   horizontal_flip = True)\n",
    "print(data_path + 'train')\n",
    "test_set = test_datagen.flow_from_directory(data_path + 'test',\n",
    "                                                 target_size = (64, 64),\n",
    "                                                 batch_size = 32,\n",
    "                                                 class_mode = 'binary')"
   ]
  },
  {
   "cell_type": "markdown",
   "id": "9734aaff",
   "metadata": {},
   "source": [
    "### CNNの構築"
   ]
  }
 ],
 "metadata": {
  "kernelspec": {
   "display_name": "Python 3",
   "language": "python",
   "name": "python3"
  },
  "language_info": {
   "codemirror_mode": {
    "name": "ipython",
    "version": 3
   },
   "file_extension": ".py",
   "mimetype": "text/x-python",
   "name": "python",
   "nbconvert_exporter": "python",
   "pygments_lexer": "ipython3",
   "version": "3.12.11"
  }
 },
 "nbformat": 4,
 "nbformat_minor": 5
}
